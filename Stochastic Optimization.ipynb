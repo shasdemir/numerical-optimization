{
 "metadata": {
  "name": "",
  "signature": "sha256:a74bd99f649971dfe5b5bd3b1c27b7befd950957c0688e4a606a7e33eabf911b"
 },
 "nbformat": 3,
 "nbformat_minor": 0,
 "worksheets": [
  {
   "cells": [
    {
     "cell_type": "code",
     "collapsed": false,
     "input": [
      "import optimization"
     ],
     "language": "python",
     "metadata": {},
     "outputs": [],
     "prompt_number": 2
    },
    {
     "cell_type": "code",
     "collapsed": false,
     "input": [
      "s = [int(k) for k in list('143273632453')]\n",
      "print s"
     ],
     "language": "python",
     "metadata": {},
     "outputs": [
      {
       "output_type": "stream",
       "stream": "stdout",
       "text": [
        "[1, 4, 3, 2, 7, 3, 6, 3, 2, 4, 5, 3]\n"
       ]
      }
     ],
     "prompt_number": 2
    },
    {
     "cell_type": "code",
     "collapsed": false,
     "input": [
      "optimization.print_schedule(s)"
     ],
     "language": "python",
     "metadata": {},
     "outputs": [
      {
       "output_type": "stream",
       "stream": "stdout",
       "text": [
        "   Seymour       BOS  8:04-10:11 $ 95 12:08-14:05 $142\n",
        "    Franny       DAL 10:30-14:57 $290  9:49-13:51 $229\n",
        "     Zooey       CAK 17:08-19:08 $262 10:32-13:16 $139\n",
        "      Walt       MIA 15:34-18:11 $326 11:08-14:38 $262\n",
        "     Buddy       ORD  9:42-11:32 $169 12:08-14:47 $231\n",
        "       Les       OMA 13:37-15:08 $250 11:07-13:24 $171\n"
       ]
      }
     ],
     "prompt_number": 3
    },
    {
     "cell_type": "code",
     "collapsed": false,
     "input": [
      "optimization.people"
     ],
     "language": "python",
     "metadata": {},
     "outputs": [
      {
       "metadata": {},
       "output_type": "pyout",
       "prompt_number": 4,
       "text": [
        "[('Seymour', 'BOS'),\n",
        " ('Franny', 'DAL'),\n",
        " ('Zooey', 'CAK'),\n",
        " ('Walt', 'MIA'),\n",
        " ('Buddy', 'ORD'),\n",
        " ('Les', 'OMA')]"
       ]
      }
     ],
     "prompt_number": 4
    },
    {
     "cell_type": "code",
     "collapsed": false,
     "input": [
      "optimization.flights"
     ],
     "language": "python",
     "metadata": {},
     "outputs": [
      {
       "metadata": {},
       "output_type": "pyout",
       "prompt_number": 5,
       "text": [
        "{('BOS', 'LGA'): [('6:17', '8:26', 89),\n",
        "  ('8:04', '10:11', 95),\n",
        "  ('9:45', '11:50', 172),\n",
        "  ('11:16', '13:29', 83),\n",
        "  ('12:34', '15:02', 109),\n",
        "  ('13:40', '15:37', 138),\n",
        "  ('15:27', '17:18', 151),\n",
        "  ('17:11', '18:30', 108),\n",
        "  ('18:34', '19:36', 136),\n",
        "  ('20:17', '22:22', 102)],\n",
        " ('CAK', 'LGA'): [('6:08', '8:06', 224),\n",
        "  ('8:27', '10:45', 139),\n",
        "  ('9:15', '12:14', 247),\n",
        "  ('10:53', '13:36', 189),\n",
        "  ('12:08', '14:59', 149),\n",
        "  ('13:40', '15:38', 137),\n",
        "  ('15:23', '17:25', 232),\n",
        "  ('17:08', '19:08', 262),\n",
        "  ('18:35', '20:28', 204),\n",
        "  ('20:30', '23:11', 114)],\n",
        " ('DAL', 'LGA'): [('6:12', '10:22', 230),\n",
        "  ('7:53', '11:37', 433),\n",
        "  ('9:08', '12:12', 364),\n",
        "  ('10:30', '14:57', 290),\n",
        "  ('12:19', '15:25', 342),\n",
        "  ('13:54', '18:02', 294),\n",
        "  ('15:44', '18:55', 382),\n",
        "  ('16:52', '20:48', 448),\n",
        "  ('18:26', '21:29', 464),\n",
        "  ('20:07', '23:27', 473)],\n",
        " ('LGA', 'BOS'): [('6:39', '8:09', 86),\n",
        "  ('8:23', '10:28', 149),\n",
        "  ('9:58', '11:18', 130),\n",
        "  ('10:33', '12:03', 74),\n",
        "  ('12:08', '14:05', 142),\n",
        "  ('13:39', '15:30', 74),\n",
        "  ('15:25', '16:58', 62),\n",
        "  ('17:03', '18:03', 103),\n",
        "  ('18:24', '20:49', 124),\n",
        "  ('19:58', '21:23', 142)],\n",
        " ('LGA', 'CAK'): [('6:58', '9:01', 238),\n",
        "  ('8:19', '11:16', 122),\n",
        "  ('9:58', '12:56', 249),\n",
        "  ('10:32', '13:16', 139),\n",
        "  ('12:01', '13:41', 267),\n",
        "  ('13:37', '15:33', 142),\n",
        "  ('15:50', '18:45', 243),\n",
        "  ('16:33', '18:15', 253),\n",
        "  ('18:17', '21:04', 259),\n",
        "  ('19:46', '21:45', 214)],\n",
        " ('LGA', 'DAL'): [('6:09', '9:49', 414),\n",
        "  ('7:57', '11:15', 347),\n",
        "  ('9:49', '13:51', 229),\n",
        "  ('10:51', '14:16', 256),\n",
        "  ('12:20', '16:34', 500),\n",
        "  ('14:20', '17:32', 332),\n",
        "  ('15:49', '20:10', 497),\n",
        "  ('17:14', '20:59', 277),\n",
        "  ('18:44', '22:42', 351),\n",
        "  ('19:57', '23:15', 512)],\n",
        " ('LGA', 'MIA'): [('6:33', '9:14', 172),\n",
        "  ('8:23', '11:07', 143),\n",
        "  ('9:25', '12:46', 295),\n",
        "  ('11:08', '14:38', 262),\n",
        "  ('12:37', '15:05', 170),\n",
        "  ('14:08', '16:09', 232),\n",
        "  ('15:23', '18:49', 150),\n",
        "  ('16:50', '19:26', 304),\n",
        "  ('18:07', '21:30', 355),\n",
        "  ('20:27', '23:42', 169)],\n",
        " ('LGA', 'OMA'): [('6:19', '8:13', 239),\n",
        "  ('8:04', '10:59', 136),\n",
        "  ('9:31', '11:43', 210),\n",
        "  ('11:07', '13:24', 171),\n",
        "  ('12:31', '14:02', 234),\n",
        "  ('14:05', '15:47', 226),\n",
        "  ('15:07', '17:21', 129),\n",
        "  ('16:35', '18:56', 144),\n",
        "  ('18:25', '20:34', 205),\n",
        "  ('20:05', '21:44', 172)],\n",
        " ('LGA', 'ORD'): [('6:03', '8:43', 219),\n",
        "  ('7:50', '10:08', 164),\n",
        "  ('9:11', '10:42', 172),\n",
        "  ('10:33', '13:11', 132),\n",
        "  ('12:08', '14:47', 231),\n",
        "  ('14:19', '17:09', 190),\n",
        "  ('15:04', '17:23', 189),\n",
        "  ('17:06', '20:00', 95),\n",
        "  ('18:33', '20:22', 143),\n",
        "  ('19:32', '21:25', 160)],\n",
        " ('MIA', 'LGA'): [('6:25', '9:30', 335),\n",
        "  ('7:34', '9:40', 324),\n",
        "  ('9:15', '12:29', 225),\n",
        "  ('11:28', '14:40', 248),\n",
        "  ('12:05', '15:30', 330),\n",
        "  ('14:01', '17:24', 338),\n",
        "  ('15:34', '18:11', 326),\n",
        "  ('17:07', '20:04', 291),\n",
        "  ('18:23', '21:35', 134),\n",
        "  ('19:53', '22:21', 173)],\n",
        " ('OMA', 'LGA'): [('6:11', '8:31', 249),\n",
        "  ('7:39', '10:24', 219),\n",
        "  ('9:15', '12:03', 99),\n",
        "  ('11:08', '13:07', 175),\n",
        "  ('12:18', '14:56', 172),\n",
        "  ('13:37', '15:08', 250),\n",
        "  ('15:03', '16:42', 135),\n",
        "  ('16:51', '19:09', 147),\n",
        "  ('18:12', '20:17', 242),\n",
        "  ('20:05', '22:06', 261)],\n",
        " ('ORD', 'LGA'): [('6:05', '8:32', 174),\n",
        "  ('8:25', '10:34', 157),\n",
        "  ('9:42', '11:32', 169),\n",
        "  ('11:01', '12:39', 260),\n",
        "  ('12:44', '14:17', 134),\n",
        "  ('14:22', '16:32', 126),\n",
        "  ('15:58', '18:40', 173),\n",
        "  ('16:43', '19:00', 246),\n",
        "  ('18:48', '21:45', 246),\n",
        "  ('19:50', '22:24', 269)]}"
       ]
      }
     ],
     "prompt_number": 5
    },
    {
     "cell_type": "markdown",
     "metadata": {},
     "source": [
      "---"
     ]
    },
    {
     "cell_type": "code",
     "collapsed": false,
     "input": [
      "reload(optimization)"
     ],
     "language": "python",
     "metadata": {},
     "outputs": [
      {
       "metadata": {},
       "output_type": "pyout",
       "prompt_number": 5,
       "text": [
        "<module 'optimization' from 'optimization.pyc'>"
       ]
      }
     ],
     "prompt_number": 5
    },
    {
     "cell_type": "code",
     "collapsed": false,
     "input": [
      "optimization.schedule_cost(s)"
     ],
     "language": "python",
     "metadata": {},
     "outputs": [
      {
       "metadata": {},
       "output_type": "pyout",
       "prompt_number": 6,
       "text": [
        "4585"
       ]
      }
     ],
     "prompt_number": 6
    },
    {
     "cell_type": "markdown",
     "metadata": {},
     "source": [
      "---"
     ]
    },
    {
     "cell_type": "heading",
     "level": 3,
     "metadata": {},
     "source": [
      "Random Searching"
     ]
    },
    {
     "cell_type": "code",
     "collapsed": false,
     "input": [
      "reload(optimization)"
     ],
     "language": "python",
     "metadata": {},
     "outputs": [
      {
       "metadata": {},
       "output_type": "pyout",
       "prompt_number": 119,
       "text": [
        "<module 'optimization' from 'optimization.py'>"
       ]
      }
     ],
     "prompt_number": 119
    },
    {
     "cell_type": "code",
     "collapsed": false,
     "input": [
      "domain = [(0,9)]*(len(optimization.people)*2)\n",
      "print domain"
     ],
     "language": "python",
     "metadata": {},
     "outputs": [
      {
       "output_type": "stream",
       "stream": "stdout",
       "text": [
        "[(0, 9), (0, 9), (0, 9), (0, 9), (0, 9), (0, 9), (0, 9), (0, 9), (0, 9), (0, 9), (0, 9), (0, 9)]\n"
       ]
      }
     ],
     "prompt_number": 110
    },
    {
     "cell_type": "code",
     "collapsed": false,
     "input": [
      "s = optimization.random_optimize(domain, optimization.schedule_cost)"
     ],
     "language": "python",
     "metadata": {},
     "outputs": [],
     "prompt_number": 111
    },
    {
     "cell_type": "code",
     "collapsed": false,
     "input": [
      "optimization.print_schedule(s) # 1e3 iterations"
     ],
     "language": "python",
     "metadata": {},
     "outputs": [
      {
       "output_type": "stream",
       "stream": "stdout",
       "text": [
        "   Seymour       BOS 11:16-13:29 $ 83 12:08-14:05 $142\n",
        "    Franny       DAL 13:54-18:02 $294 12:20-16:34 $500\n",
        "     Zooey       CAK 10:53-13:36 $189 10:32-13:16 $139\n",
        "      Walt       MIA 15:34-18:11 $326  9:25-12:46 $295\n",
        "     Buddy       ORD 16:43-19:00 $246 10:33-13:11 $132\n",
        "       Les       OMA 16:51-19:09 $147  9:31-11:43 $210\n"
       ]
      }
     ],
     "prompt_number": 112
    },
    {
     "cell_type": "code",
     "collapsed": false,
     "input": [
      "optimization.schedule_cost(s)"
     ],
     "language": "python",
     "metadata": {},
     "outputs": [
      {
       "metadata": {},
       "output_type": "pyout",
       "prompt_number": 113,
       "text": [
        "3989"
       ]
      }
     ],
     "prompt_number": 113
    },
    {
     "cell_type": "code",
     "collapsed": false,
     "input": [
      "s = optimization.random_optimize(domain, optimization.schedule_cost)"
     ],
     "language": "python",
     "metadata": {},
     "outputs": [],
     "prompt_number": 116
    },
    {
     "cell_type": "code",
     "collapsed": true,
     "input": [
      "optimization.print_schedule(s) # 1e4 iterations"
     ],
     "language": "python",
     "metadata": {},
     "outputs": [
      {
       "output_type": "stream",
       "stream": "stdout",
       "text": [
        "   Seymour       BOS  6:17- 8:26 $ 89 13:39-15:30 $ 74\n",
        "    Franny       DAL  6:12-10:22 $230  7:57-11:15 $347\n",
        "     Zooey       CAK  9:15-12:14 $247  9:58-12:56 $249\n",
        "      Walt       MIA  9:15-12:29 $225  8:23-11:07 $143\n",
        "     Buddy       ORD  9:42-11:32 $169 10:33-13:11 $132\n",
        "       Les       OMA  7:39-10:24 $219  8:04-10:59 $136\n"
       ]
      }
     ],
     "prompt_number": 117
    },
    {
     "cell_type": "code",
     "collapsed": false,
     "input": [
      "optimization.schedule_cost(s)"
     ],
     "language": "python",
     "metadata": {},
     "outputs": [
      {
       "metadata": {},
       "output_type": "pyout",
       "prompt_number": 118,
       "text": [
        "3479"
       ]
      }
     ],
     "prompt_number": 118
    },
    {
     "cell_type": "code",
     "collapsed": false,
     "input": [
      "s = optimization.random_optimize(domain, optimization.schedule_cost)"
     ],
     "language": "python",
     "metadata": {},
     "outputs": [],
     "prompt_number": 120
    },
    {
     "cell_type": "code",
     "collapsed": false,
     "input": [
      "optimization.print_schedule(s) # 1e5 iterations"
     ],
     "language": "python",
     "metadata": {},
     "outputs": [
      {
       "output_type": "stream",
       "stream": "stdout",
       "text": [
        "   Seymour       BOS 11:16-13:29 $ 83 13:39-15:30 $ 74\n",
        "    Franny       DAL 10:30-14:57 $290 19:57-23:15 $512\n",
        "     Zooey       CAK 12:08-14:59 $149 13:37-15:33 $142\n",
        "      Walt       MIA 11:28-14:40 $248 15:23-18:49 $150\n",
        "     Buddy       ORD 12:44-14:17 $134 15:04-17:23 $189\n",
        "       Les       OMA 11:08-13:07 $175 16:35-18:56 $144\n"
       ]
      }
     ],
     "prompt_number": 121
    },
    {
     "cell_type": "code",
     "collapsed": false,
     "input": [
      "optimization.schedule_cost(s)"
     ],
     "language": "python",
     "metadata": {},
     "outputs": [
      {
       "metadata": {},
       "output_type": "pyout",
       "prompt_number": 122,
       "text": [
        "3308"
       ]
      }
     ],
     "prompt_number": 122
    },
    {
     "cell_type": "markdown",
     "metadata": {},
     "source": [
      "---"
     ]
    },
    {
     "cell_type": "heading",
     "level": 3,
     "metadata": {},
     "source": [
      "Hill Climbing"
     ]
    },
    {
     "cell_type": "code",
     "collapsed": false,
     "input": [
      "reload(optimization)"
     ],
     "language": "python",
     "metadata": {},
     "outputs": [
      {
       "metadata": {},
       "output_type": "pyout",
       "prompt_number": 8,
       "text": [
        "<module 'optimization' from 'optimization.pyc'>"
       ]
      }
     ],
     "prompt_number": 8
    },
    {
     "cell_type": "code",
     "collapsed": false,
     "input": [
      "domain = [(0,9)]*(len(optimization.people)*2)"
     ],
     "language": "python",
     "metadata": {},
     "outputs": [],
     "prompt_number": 4
    },
    {
     "cell_type": "code",
     "collapsed": false,
     "input": [
      "s = optimization.hill_climb(domain, optimization.schedule_cost)"
     ],
     "language": "python",
     "metadata": {},
     "outputs": [],
     "prompt_number": 10
    },
    {
     "cell_type": "code",
     "collapsed": false,
     "input": [
      "optimization.print_schedule(s) # HC"
     ],
     "language": "python",
     "metadata": {},
     "outputs": [
      {
       "output_type": "stream",
       "stream": "stdout",
       "text": [
        "   Seymour       BOS 12:34-15:02 $109 10:33-12:03 $ 74\n",
        "    Franny       DAL 10:30-14:57 $290 10:51-14:16 $256\n",
        "     Zooey       CAK  8:27-10:45 $139 10:32-13:16 $139\n",
        "      Walt       MIA 11:28-14:40 $248 15:23-18:49 $150\n",
        "     Buddy       ORD 12:44-14:17 $134 10:33-13:11 $132\n",
        "       Les       OMA 12:18-14:56 $172 11:07-13:24 $171\n"
       ]
      }
     ],
     "prompt_number": 11
    },
    {
     "cell_type": "code",
     "collapsed": false,
     "input": [
      "optimization.schedule_cost(s)"
     ],
     "language": "python",
     "metadata": {},
     "outputs": [
      {
       "metadata": {},
       "output_type": "pyout",
       "prompt_number": 12,
       "text": [
        "2696"
       ]
      }
     ],
     "prompt_number": 12
    },
    {
     "cell_type": "heading",
     "level": 4,
     "metadata": {},
     "source": [
      "Multiple Hill Climb"
     ]
    },
    {
     "cell_type": "code",
     "collapsed": false,
     "input": [
      "reload(optimization)"
     ],
     "language": "python",
     "metadata": {},
     "outputs": [
      {
       "metadata": {},
       "output_type": "pyout",
       "prompt_number": 32,
       "text": [
        "<module 'optimization' from 'optimization.pyc'>"
       ]
      }
     ],
     "prompt_number": 32
    },
    {
     "cell_type": "code",
     "collapsed": false,
     "input": [
      "s = optimization.multiple_hill_climb(domain, optimization.schedule_cost, 100)"
     ],
     "language": "python",
     "metadata": {},
     "outputs": [],
     "prompt_number": 25
    },
    {
     "cell_type": "code",
     "collapsed": false,
     "input": [
      "optimization.print_schedule(s)"
     ],
     "language": "python",
     "metadata": {},
     "outputs": [
      {
       "output_type": "stream",
       "stream": "stdout",
       "text": [
        "   Seymour       BOS 12:34-15:02 $109 10:33-12:03 $ 74\n",
        "    Franny       DAL 10:30-14:57 $290 10:51-14:16 $256\n",
        "     Zooey       CAK 12:08-14:59 $149 13:37-15:33 $142\n",
        "      Walt       MIA 11:28-14:40 $248 12:37-15:05 $170\n",
        "     Buddy       ORD 12:44-14:17 $134 10:33-13:11 $132\n",
        "       Les       OMA 12:18-14:56 $172 11:07-13:24 $171\n"
       ]
      }
     ],
     "prompt_number": 26
    },
    {
     "cell_type": "code",
     "collapsed": false,
     "input": [
      "optimization.schedule_cost(s)"
     ],
     "language": "python",
     "metadata": {},
     "outputs": [
      {
       "metadata": {},
       "output_type": "pyout",
       "prompt_number": 27,
       "text": [
        "3311.5"
       ]
      }
     ],
     "prompt_number": 27
    },
    {
     "cell_type": "code",
     "collapsed": false,
     "input": [
      "s = optimization.multiple_hill_climb(domain, optimization.schedule_cost, 1000)"
     ],
     "language": "python",
     "metadata": {},
     "outputs": [],
     "prompt_number": 28
    },
    {
     "cell_type": "code",
     "collapsed": false,
     "input": [
      "optimization.print_schedule(s)"
     ],
     "language": "python",
     "metadata": {},
     "outputs": [
      {
       "output_type": "stream",
       "stream": "stdout",
       "text": [
        "   Seymour       BOS 12:34-15:02 $109 10:33-12:03 $ 74\n",
        "    Franny       DAL 10:30-14:57 $290 10:51-14:16 $256\n",
        "     Zooey       CAK 12:08-14:59 $149 10:32-13:16 $139\n",
        "      Walt       MIA 11:28-14:40 $248 12:37-15:05 $170\n",
        "     Buddy       ORD 12:44-14:17 $134 10:33-13:11 $132\n",
        "       Les       OMA 12:18-14:56 $172 11:07-13:24 $171\n"
       ]
      }
     ],
     "prompt_number": 29
    },
    {
     "cell_type": "code",
     "collapsed": false,
     "input": [
      "optimization.schedule_cost(s)"
     ],
     "language": "python",
     "metadata": {},
     "outputs": [
      {
       "metadata": {},
       "output_type": "pyout",
       "prompt_number": 30,
       "text": [
        "3141.0"
       ]
      }
     ],
     "prompt_number": 30
    },
    {
     "cell_type": "code",
     "collapsed": false,
     "input": [
      "optimization.print_schedule(s)"
     ],
     "language": "python",
     "metadata": {},
     "outputs": []
    },
    {
     "cell_type": "code",
     "collapsed": false,
     "input": [
      "optimization.schedule_cost(s)"
     ],
     "language": "python",
     "metadata": {},
     "outputs": []
    },
    {
     "cell_type": "markdown",
     "metadata": {},
     "source": [
      "---"
     ]
    },
    {
     "cell_type": "code",
     "collapsed": false,
     "input": [
      "s = optimization.multiple_hill_climb(domain, optimization.schedule_cost, 10000)"
     ],
     "language": "python",
     "metadata": {},
     "outputs": [],
     "prompt_number": 13
    },
    {
     "cell_type": "code",
     "collapsed": false,
     "input": [
      "optimization.print_schedule(s)"
     ],
     "language": "python",
     "metadata": {},
     "outputs": [
      {
       "output_type": "stream",
       "stream": "stdout",
       "text": [
        "   Seymour       BOS 12:34-15:02 $109 10:33-12:03 $ 74\n",
        "    Franny       DAL 10:30-14:57 $290 10:51-14:16 $256\n",
        "     Zooey       CAK 12:08-14:59 $149 10:32-13:16 $139\n",
        "      Walt       MIA 11:28-14:40 $248 12:37-15:05 $170\n",
        "     Buddy       ORD 12:44-14:17 $134 10:33-13:11 $132\n",
        "       Les       OMA 12:18-14:56 $172 11:07-13:24 $171\n"
       ]
      }
     ],
     "prompt_number": 14
    },
    {
     "cell_type": "code",
     "collapsed": false,
     "input": [
      "optimization.schedule_cost(s)"
     ],
     "language": "python",
     "metadata": {},
     "outputs": [
      {
       "metadata": {},
       "output_type": "pyout",
       "prompt_number": 15,
       "text": [
        "2306"
       ]
      }
     ],
     "prompt_number": 15
    },
    {
     "cell_type": "code",
     "collapsed": false,
     "input": [
      "s = optimization.multiple_hill_climb(domain, optimization.schedule_cost, 20000)"
     ],
     "language": "python",
     "metadata": {},
     "outputs": []
    },
    {
     "cell_type": "code",
     "collapsed": false,
     "input": [
      "optimization.print_schedule(s)"
     ],
     "language": "python",
     "metadata": {},
     "outputs": [
      {
       "output_type": "stream",
       "stream": "stdout",
       "text": [
        "   Seymour       BOS 12:34-15:02 $109 10:33-12:03 $ 74\n",
        "    Franny       DAL 10:30-14:57 $290 10:51-14:16 $256\n",
        "     Zooey       CAK 12:08-14:59 $149 10:32-13:16 $139\n",
        "      Walt       MIA 11:28-14:40 $248 12:37-15:05 $170\n",
        "     Buddy       ORD 12:44-14:17 $134 10:33-13:11 $132\n",
        "       Les       OMA 12:18-14:56 $172 11:07-13:24 $171\n"
       ]
      }
     ],
     "prompt_number": 33
    },
    {
     "cell_type": "code",
     "collapsed": false,
     "input": [
      "optimization.schedule_cost(s)"
     ],
     "language": "python",
     "metadata": {},
     "outputs": [
      {
       "metadata": {},
       "output_type": "pyout",
       "prompt_number": 29,
       "text": [
        "2465"
       ]
      }
     ],
     "prompt_number": 29
    },
    {
     "cell_type": "markdown",
     "metadata": {},
     "source": [
      "---"
     ]
    },
    {
     "cell_type": "heading",
     "level": 3,
     "metadata": {},
     "source": [
      "Simulated Annealing"
     ]
    },
    {
     "cell_type": "code",
     "collapsed": false,
     "input": [
      "reload(optimization)"
     ],
     "language": "python",
     "metadata": {},
     "outputs": [
      {
       "metadata": {},
       "output_type": "pyout",
       "prompt_number": 17,
       "text": [
        "<module 'optimization' from 'optimization.py'>"
       ]
      }
     ],
     "prompt_number": 17
    },
    {
     "cell_type": "code",
     "collapsed": false,
     "input": [
      "domain = [(0,9)]*(len(optimization.people)*2)"
     ],
     "language": "python",
     "metadata": {},
     "outputs": [],
     "prompt_number": 18
    },
    {
     "cell_type": "code",
     "collapsed": false,
     "input": [
      "s = optimization.simulated_annealing(domain, optimization.schedule_cost)"
     ],
     "language": "python",
     "metadata": {},
     "outputs": [],
     "prompt_number": 19
    },
    {
     "cell_type": "code",
     "collapsed": false,
     "input": [
      "optimization.print_schedule(s)"
     ],
     "language": "python",
     "metadata": {},
     "outputs": [
      {
       "output_type": "stream",
       "stream": "stdout",
       "text": [
        "   Seymour       BOS 12:34-15:02 $109 10:33-12:03 $ 74\n",
        "    Franny       DAL 10:30-14:57 $290 10:51-14:16 $256\n",
        "     Zooey       CAK 12:08-14:59 $149 10:32-13:16 $139\n",
        "      Walt       MIA 11:28-14:40 $248 12:37-15:05 $170\n",
        "     Buddy       ORD 12:44-14:17 $134 10:33-13:11 $132\n",
        "       Les       OMA 12:18-14:56 $172 11:07-13:24 $171\n"
       ]
      }
     ],
     "prompt_number": 20
    },
    {
     "cell_type": "code",
     "collapsed": false,
     "input": [
      "optimization.schedule_cost(s)"
     ],
     "language": "python",
     "metadata": {},
     "outputs": [
      {
       "metadata": {},
       "output_type": "pyout",
       "prompt_number": 21,
       "text": [
        "3141.0"
       ]
      }
     ],
     "prompt_number": 21
    },
    {
     "cell_type": "heading",
     "level": 4,
     "metadata": {},
     "source": [
      "Multiple Simulated Annealing"
     ]
    },
    {
     "cell_type": "code",
     "collapsed": false,
     "input": [
      "s2 = optimization.multiple_simulated_annealing(domain, optimization.schedule_cost, 10)"
     ],
     "language": "python",
     "metadata": {},
     "outputs": [],
     "prompt_number": 22
    },
    {
     "cell_type": "code",
     "collapsed": false,
     "input": [
      "optimization.print_schedule(s2)"
     ],
     "language": "python",
     "metadata": {},
     "outputs": [
      {
       "output_type": "stream",
       "stream": "stdout",
       "text": [
        "   Seymour       BOS 12:34-15:02 $109 10:33-12:03 $ 74\n",
        "    Franny       DAL 10:30-14:57 $290 10:51-14:16 $256\n",
        "     Zooey       CAK 12:08-14:59 $149 10:32-13:16 $139\n",
        "      Walt       MIA 11:28-14:40 $248 12:37-15:05 $170\n",
        "     Buddy       ORD 12:44-14:17 $134 10:33-13:11 $132\n",
        "       Les       OMA 12:18-14:56 $172 11:07-13:24 $171\n"
       ]
      }
     ],
     "prompt_number": 23
    },
    {
     "cell_type": "code",
     "collapsed": false,
     "input": [
      "optimization.schedule_cost(s)"
     ],
     "language": "python",
     "metadata": {},
     "outputs": [
      {
       "metadata": {},
       "output_type": "pyout",
       "prompt_number": 24,
       "text": [
        "3141.0"
       ]
      }
     ],
     "prompt_number": 24
    },
    {
     "cell_type": "markdown",
     "metadata": {},
     "source": [
      "---"
     ]
    },
    {
     "cell_type": "heading",
     "level": 3,
     "metadata": {},
     "source": [
      "Genetic Algorithm"
     ]
    },
    {
     "cell_type": "code",
     "collapsed": false,
     "input": [
      "reload(optimization)"
     ],
     "language": "python",
     "metadata": {},
     "outputs": [
      {
       "metadata": {},
       "output_type": "pyout",
       "prompt_number": 145,
       "text": [
        "<module 'optimization' from 'optimization.py'>"
       ]
      }
     ],
     "prompt_number": 145
    },
    {
     "cell_type": "code",
     "collapsed": false,
     "input": [
      "s = optimization.genetic_algorithm(domain, optimization.schedule_cost)"
     ],
     "language": "python",
     "metadata": {},
     "outputs": [],
     "prompt_number": 149
    },
    {
     "cell_type": "code",
     "collapsed": false,
     "input": [
      "optimization.print_schedule(s)"
     ],
     "language": "python",
     "metadata": {},
     "outputs": [
      {
       "output_type": "stream",
       "stream": "stdout",
       "text": [
        "   Seymour       BOS  9:45-11:50 $172  8:23-10:28 $149\n",
        "    Franny       DAL  9:08-12:12 $364  9:49-13:51 $229\n",
        "     Zooey       CAK  8:27-10:45 $139  8:19-11:16 $122\n",
        "      Walt       MIA  9:15-12:29 $225  8:23-11:07 $143\n",
        "     Buddy       ORD  9:42-11:32 $169  7:50-10:08 $164\n",
        "       Les       OMA  9:15-12:03 $ 99  8:04-10:59 $136\n"
       ]
      }
     ],
     "prompt_number": 150
    },
    {
     "cell_type": "code",
     "collapsed": false,
     "input": [
      "optimization.schedule_cost(s)"
     ],
     "language": "python",
     "metadata": {},
     "outputs": [
      {
       "metadata": {},
       "output_type": "pyout",
       "prompt_number": 151,
       "text": [
        "2582"
       ]
      }
     ],
     "prompt_number": 151
    },
    {
     "cell_type": "markdown",
     "metadata": {},
     "source": [
      "---"
     ]
    },
    {
     "cell_type": "heading",
     "level": 3,
     "metadata": {},
     "source": [
      "Optimizing for Preferences"
     ]
    },
    {
     "cell_type": "code",
     "collapsed": false,
     "input": [
      "dorms = ['Zeus', 'Athena', 'Hercules', 'Bacchus', 'Pluto']"
     ],
     "language": "python",
     "metadata": {},
     "outputs": [],
     "prompt_number": 12
    },
    {
     "cell_type": "code",
     "collapsed": false,
     "input": [
      "domain = [(0, i) for i in range(len(dorms)*2-1, -1, -1)]\n",
      "print domain"
     ],
     "language": "python",
     "metadata": {},
     "outputs": [
      {
       "output_type": "stream",
       "stream": "stdout",
       "text": [
        "[(0, 9), (0, 8), (0, 7), (0, 6), (0, 5), (0, 4), (0, 3), (0, 2), (0, 1), (0, 0)]\n"
       ]
      }
     ],
     "prompt_number": 15
    },
    {
     "cell_type": "code",
     "collapsed": false,
     "input": [
      "import dorm\n",
      "reload(dorm)"
     ],
     "language": "python",
     "metadata": {},
     "outputs": [
      {
       "metadata": {},
       "output_type": "pyout",
       "prompt_number": 20,
       "text": [
        "<module 'dorm' from 'dorm.py'>"
       ]
      }
     ],
     "prompt_number": 20
    },
    {
     "cell_type": "code",
     "collapsed": false,
     "input": [
      "dorm.print_solution([0]* 10)"
     ],
     "language": "python",
     "metadata": {},
     "outputs": [
      {
       "output_type": "stream",
       "stream": "stdout",
       "text": [
        "Toby Zeus\n",
        "Steve Zeus\n",
        "Andrea Athena\n",
        "Sarah Athena\n",
        "Dave Hercules\n",
        "Jeff Hercules\n",
        "Fred Bacchus\n",
        "Suzie Bacchus\n",
        "Laura Pluto\n",
        "Neil Pluto\n"
       ]
      }
     ],
     "prompt_number": 21
    },
    {
     "cell_type": "code",
     "collapsed": false,
     "input": [
      "slots = []\n",
      "for k in range(len(dorms)):  # create two slots for each dorm\n",
      "    slots += [k, k]"
     ],
     "language": "python",
     "metadata": {},
     "outputs": [],
     "prompt_number": 23
    },
    {
     "cell_type": "code",
     "collapsed": false,
     "input": [
      "slots"
     ],
     "language": "python",
     "metadata": {},
     "outputs": [
      {
       "metadata": {},
       "output_type": "pyout",
       "prompt_number": 24,
       "text": [
        "[0, 0, 1, 1, 2, 2, 3, 3, 4, 4]"
       ]
      }
     ],
     "prompt_number": 24
    },
    {
     "cell_type": "code",
     "collapsed": false,
     "input": [
      "import operator"
     ],
     "language": "python",
     "metadata": {},
     "outputs": [],
     "prompt_number": 25
    },
    {
     "cell_type": "code",
     "collapsed": false,
     "input": [
      "reduce(operator.add, [[k, k] for k in range(len(dorms))])"
     ],
     "language": "python",
     "metadata": {},
     "outputs": [
      {
       "metadata": {},
       "output_type": "pyout",
       "prompt_number": 27,
       "text": [
        "[0, 0, 1, 1, 2, 2, 3, 3, 4, 4]"
       ]
      }
     ],
     "prompt_number": 27
    },
    {
     "cell_type": "markdown",
     "metadata": {},
     "source": [
      "---"
     ]
    },
    {
     "cell_type": "code",
     "collapsed": false,
     "input": [
      "reload(dorm)\n",
      "reload(optimization)"
     ],
     "language": "python",
     "metadata": {},
     "outputs": [
      {
       "metadata": {},
       "output_type": "pyout",
       "prompt_number": 55,
       "text": [
        "<module 'optimization' from 'optimization.pyc'>"
       ]
      }
     ],
     "prompt_number": 55
    },
    {
     "cell_type": "code",
     "collapsed": false,
     "input": [
      "s = optimization.random_optimize(dorm.domain, dorm.dorm_cost)"
     ],
     "language": "python",
     "metadata": {},
     "outputs": [],
     "prompt_number": 56
    },
    {
     "cell_type": "code",
     "collapsed": false,
     "input": [
      "dorm.dorm_cost(s)"
     ],
     "language": "python",
     "metadata": {},
     "outputs": [
      {
       "metadata": {},
       "output_type": "pyout",
       "prompt_number": 57,
       "text": [
        "8"
       ]
      }
     ],
     "prompt_number": 57
    },
    {
     "cell_type": "code",
     "collapsed": false,
     "input": [
      "s = optimization.genetic_algorithm(dorm.domain, dorm.dorm_cost)"
     ],
     "language": "python",
     "metadata": {},
     "outputs": [],
     "prompt_number": 58
    },
    {
     "cell_type": "code",
     "collapsed": false,
     "input": [
      "dorm.dorm_cost(s)"
     ],
     "language": "python",
     "metadata": {},
     "outputs": [
      {
       "metadata": {},
       "output_type": "pyout",
       "prompt_number": 59,
       "text": [
        "5"
       ]
      }
     ],
     "prompt_number": 59
    },
    {
     "cell_type": "code",
     "collapsed": false,
     "input": [
      "s = optimization.simulated_annealing(dorm.domain, dorm.dorm_cost)"
     ],
     "language": "python",
     "metadata": {},
     "outputs": [],
     "prompt_number": 60
    },
    {
     "cell_type": "code",
     "collapsed": false,
     "input": [
      "dorm.dorm_cost(s)"
     ],
     "language": "python",
     "metadata": {},
     "outputs": [
      {
       "metadata": {},
       "output_type": "pyout",
       "prompt_number": 61,
       "text": [
        "2"
       ]
      }
     ],
     "prompt_number": 61
    },
    {
     "cell_type": "markdown",
     "metadata": {},
     "source": [
      "---"
     ]
    },
    {
     "cell_type": "heading",
     "level": 3,
     "metadata": {},
     "source": [
      "Network Visualization"
     ]
    },
    {
     "cell_type": "code",
     "collapsed": false,
     "input": [
      "import socialnetwork\n",
      "import optimization"
     ],
     "language": "python",
     "metadata": {},
     "outputs": [],
     "prompt_number": 24
    },
    {
     "cell_type": "code",
     "collapsed": false,
     "input": [
      "reload(socialnetwork)\n",
      "reload(optimization)"
     ],
     "language": "python",
     "metadata": {},
     "outputs": [
      {
       "metadata": {},
       "output_type": "pyout",
       "prompt_number": 69,
       "text": [
        "<module 'optimization' from 'optimization.py'>"
       ]
      }
     ],
     "prompt_number": 69
    },
    {
     "cell_type": "code",
     "collapsed": false,
     "input": [
      "sol = optimization.random_optimize(socialnetwork.domain, socialnetwork.cross_count)"
     ],
     "language": "python",
     "metadata": {},
     "outputs": [],
     "prompt_number": 71
    },
    {
     "cell_type": "code",
     "collapsed": false,
     "input": [
      "socialnetwork.cross_count(sol)"
     ],
     "language": "python",
     "metadata": {},
     "outputs": [
      {
       "metadata": {},
       "output_type": "pyout",
       "prompt_number": 72,
       "text": [
        "1.0317023809446364"
       ]
      }
     ],
     "prompt_number": 72
    },
    {
     "cell_type": "code",
     "collapsed": false,
     "input": [
      "sol"
     ],
     "language": "python",
     "metadata": {},
     "outputs": [
      {
       "metadata": {},
       "output_type": "pyout",
       "prompt_number": 58,
       "text": [
        "[140, 254, 226, 87, 34, 301, 191, 161, 166, 225, 156, 359, 259, 105, 257, 248]"
       ]
      }
     ],
     "prompt_number": 58
    },
    {
     "cell_type": "code",
     "collapsed": false,
     "input": [
      "socialnetwork.draw_network(sol)"
     ],
     "language": "python",
     "metadata": {},
     "outputs": [],
     "prompt_number": 80
    },
    {
     "cell_type": "code",
     "collapsed": false,
     "input": [
      "sol2 = optimization.simulated_annealing(socialnetwork.domain, socialnetwork.cross_count)"
     ],
     "language": "python",
     "metadata": {},
     "outputs": [],
     "prompt_number": 62
    },
    {
     "cell_type": "code",
     "collapsed": false,
     "input": [
      "sol2"
     ],
     "language": "python",
     "metadata": {},
     "outputs": [
      {
       "metadata": {},
       "output_type": "pyout",
       "prompt_number": 63,
       "text": [
        "[205, 360, 100, 243, 106, 36, 140, 285, 30, 175, 280, 112, 309, 338, 33, 284]"
       ]
      }
     ],
     "prompt_number": 63
    },
    {
     "cell_type": "code",
     "collapsed": false,
     "input": [
      "socialnetwork.cross_count(sol2)"
     ],
     "language": "python",
     "metadata": {},
     "outputs": [
      {
       "metadata": {},
       "output_type": "pyout",
       "prompt_number": 64,
       "text": [
        "9.450531354778088"
       ]
      }
     ],
     "prompt_number": 64
    },
    {
     "cell_type": "code",
     "collapsed": false,
     "input": [
      "sol_hc = optimization.hill_climb(socialnetwork.domain, socialnetwork.cross_count)"
     ],
     "language": "python",
     "metadata": {},
     "outputs": [],
     "prompt_number": 76
    },
    {
     "cell_type": "code",
     "collapsed": false,
     "input": [
      "socialnetwork.cross_count(sol_hc)"
     ],
     "language": "python",
     "metadata": {},
     "outputs": [
      {
       "metadata": {},
       "output_type": "pyout",
       "prompt_number": 78,
       "text": [
        "1.8483777985556047"
       ]
      }
     ],
     "prompt_number": 78
    },
    {
     "cell_type": "code",
     "collapsed": false,
     "input": [
      "sol_mult = optimization.multiple_hill_climb(socialnetwork.domain, socialnetwork.cross_count, 100)"
     ],
     "language": "python",
     "metadata": {},
     "outputs": [],
     "prompt_number": 79
    },
    {
     "cell_type": "code",
     "collapsed": false,
     "input": [
      "socialnetwork.cross_count(sol_mult)"
     ],
     "language": "python",
     "metadata": {},
     "outputs": [
      {
       "metadata": {},
       "output_type": "pyout",
       "prompt_number": 81,
       "text": [
        "0.8541993811331414"
       ]
      }
     ],
     "prompt_number": 81
    },
    {
     "cell_type": "heading",
     "level": 4,
     "metadata": {},
     "source": [
      "Drawing the Network"
     ]
    },
    {
     "cell_type": "code",
     "collapsed": false,
     "input": [
      "socialnetwork.draw_network(sol)"
     ],
     "language": "python",
     "metadata": {},
     "outputs": [],
     "prompt_number": 83
    },
    {
     "cell_type": "code",
     "collapsed": false,
     "input": [
      "socialnetwork.draw_network(sol2)"
     ],
     "language": "python",
     "metadata": {},
     "outputs": [],
     "prompt_number": 66
    },
    {
     "cell_type": "code",
     "collapsed": false,
     "input": [
      "socialnetwork.draw_network(sol_hc)"
     ],
     "language": "python",
     "metadata": {},
     "outputs": [],
     "prompt_number": 77
    },
    {
     "cell_type": "code",
     "collapsed": false,
     "input": [
      "socialnetwork.draw_network(sol_mult)"
     ],
     "language": "python",
     "metadata": {},
     "outputs": [],
     "prompt_number": 82
    },
    {
     "cell_type": "markdown",
     "metadata": {},
     "source": [
      "---"
     ]
    },
    {
     "cell_type": "code",
     "collapsed": false,
     "input": [
      "import math"
     ],
     "language": "python",
     "metadata": {},
     "outputs": [],
     "prompt_number": 13
    },
    {
     "cell_type": "code",
     "collapsed": false,
     "input": [
      "def norm(vector):\n",
      "    \"\"\" :param vector: Return norm of a vector. Vector is a tuple of coordinates. \"\"\"\n",
      "\n",
      "    return math.sqrt(sum((k**2 for k in vector)))"
     ],
     "language": "python",
     "metadata": {},
     "outputs": [],
     "prompt_number": 14
    },
    {
     "cell_type": "code",
     "collapsed": false,
     "input": [
      "norm((1,1))"
     ],
     "language": "python",
     "metadata": {},
     "outputs": [
      {
       "metadata": {},
       "output_type": "pyout",
       "prompt_number": 15,
       "text": [
        "1.4142135623730951"
       ]
      }
     ],
     "prompt_number": 15
    },
    {
     "cell_type": "code",
     "collapsed": false,
     "input": [
      "def make_unit_vector(vector):\n",
      "    \"\"\" :param vector: Return unit vector obtained by dividing vector to its norm. \"\"\"\n",
      "\n",
      "    v_norm = norm(vector)\n",
      "    return tuple((k / v_norm for k in vector))"
     ],
     "language": "python",
     "metadata": {},
     "outputs": [],
     "prompt_number": 16
    },
    {
     "cell_type": "code",
     "collapsed": false,
     "input": [
      "make_unit_vector((1,1))"
     ],
     "language": "python",
     "metadata": {},
     "outputs": [
      {
       "metadata": {},
       "output_type": "pyout",
       "prompt_number": 17,
       "text": [
        "(0.7071067811865475, 0.7071067811865475)"
       ]
      }
     ],
     "prompt_number": 17
    },
    {
     "cell_type": "code",
     "collapsed": false,
     "input": [
      "def get_minutes(t):  # how many minutes into the day a given time is\n",
      "    x = time.strptime(t, '%H:%M')\n",
      "    return x[3]*60 + x[4]"
     ],
     "language": "python",
     "metadata": {},
     "outputs": [],
     "prompt_number": 13
    },
    {
     "cell_type": "code",
     "collapsed": false,
     "input": [
      "import time"
     ],
     "language": "python",
     "metadata": {},
     "outputs": [],
     "prompt_number": 15
    },
    {
     "cell_type": "code",
     "collapsed": false,
     "input": [
      "get_minutes('08:00')"
     ],
     "language": "python",
     "metadata": {},
     "outputs": [
      {
       "metadata": {},
       "output_type": "pyout",
       "prompt_number": 16,
       "text": [
        "480"
       ]
      }
     ],
     "prompt_number": 16
    },
    {
     "cell_type": "code",
     "collapsed": false,
     "input": [
      "|"
     ],
     "language": "python",
     "metadata": {},
     "outputs": []
    }
   ],
   "metadata": {}
  }
 ]
}